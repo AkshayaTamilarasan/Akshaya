{
  "nbformat": 4,
  "nbformat_minor": 0,
  "metadata": {
    "colab": {
      "provenance": [],
      "authorship_tag": "ABX9TyMyVnppDZdAr7JPLRlsyBVX",
      "include_colab_link": true
    },
    "kernelspec": {
      "name": "python3",
      "display_name": "Python 3"
    },
    "language_info": {
      "name": "python"
    }
  },
  "cells": [
    {
      "cell_type": "markdown",
      "metadata": {
        "id": "view-in-github",
        "colab_type": "text"
      },
      "source": [
        "<a href=\"https://colab.research.google.com/github/AkshayaTamilarasan/Akshaya/blob/main/Untitled0.ipynb\" target=\"_parent\"><img src=\"https://colab.research.google.com/assets/colab-badge.svg\" alt=\"Open In Colab\"/></a>"
      ]
    },
    {
      "cell_type": "code",
      "execution_count": null,
      "metadata": {
        "colab": {
          "base_uri": "https://localhost:8080/"
        },
        "id": "NCtdoateDh70",
        "outputId": "cdc5674a-e57f-4f96-e2de-74794a6f9d65"
      },
      "outputs": [
        {
          "output_type": "stream",
          "name": "stdout",
          "text": [
            "enter a number 15\n",
            "Fizz Buzz\n"
          ]
        }
      ],
      "source": [
        "X = int(input(\"enter a number \"))\n",
        "if X%3==0 and X%5==0:\n",
        "    print(\"Fizz Buzz\")\n",
        "elif X%3==0:\n",
        "    print(\"Fizz\")\n",
        "elif X%5==0:\n",
        "    print(\"Fuzz\")"
      ]
    }
  ]
}