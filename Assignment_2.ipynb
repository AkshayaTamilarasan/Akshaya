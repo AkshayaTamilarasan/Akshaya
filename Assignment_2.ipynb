{
  "nbformat": 4,
  "nbformat_minor": 0,
  "metadata": {
    "colab": {
      "provenance": [],
      "authorship_tag": "ABX9TyNOWA2DOPfCzkBPLIyQcmvL",
      "include_colab_link": true
    },
    "kernelspec": {
      "name": "python3",
      "display_name": "Python 3"
    },
    "language_info": {
      "name": "python"
    }
  },
  "cells": [
    {
      "cell_type": "markdown",
      "metadata": {
        "id": "view-in-github",
        "colab_type": "text"
      },
      "source": [
        "<a href=\"https://colab.research.google.com/github/AkshayaTamilarasan/Akshaya/blob/main/Assignment_2.ipynb\" target=\"_parent\"><img src=\"https://colab.research.google.com/assets/colab-badge.svg\" alt=\"Open In Colab\"/></a>"
      ]
    },
    {
      "cell_type": "code",
      "execution_count": null,
      "metadata": {
        "colab": {
          "base_uri": "https://localhost:8080/"
        },
        "id": "zzuXwzg8l-kv",
        "outputId": "c7948e70-cef6-467c-999f-12d7851f4cdb"
      },
      "outputs": [
        {
          "output_type": "stream",
          "name": "stdout",
          "text": [
            "['phone.jpg', 'view.jpg', 'bear.jpg']\n"
          ]
        }
      ],
      "source": [
        "filenames=['view.jpg','bear.jpg','ball.png']\n",
        "filenames.insert(0,'phone.jpg')\n",
        "filenames.pop(3)\n",
        "print(filenames)"
      ]
    },
    {
      "cell_type": "code",
      "source": [
        "L3=[1,2,3,4,5,6,7,8,9,10]\n",
        "maximum=0\n",
        "minimum=1\n",
        "Average=0\n",
        "for e in L:\n",
        "  if e>maximum:\n",
        "    maximum=e\n",
        "    Average = Average + maximum\n",
        "  if e<minimum:\n",
        "    minimum = e\n",
        "print(maximum)\n",
        "print(minimum)\n",
        "print(Average/len(L))"
      ],
      "metadata": {
        "colab": {
          "base_uri": "https://localhost:8080/"
        },
        "id": "DVyJNkFe0GOs",
        "outputId": "87118678-bc79-4663-95e4-43c7be49abbc"
      },
      "execution_count": null,
      "outputs": [
        {
          "output_type": "stream",
          "name": "stdout",
          "text": [
            "10\n",
            "1\n",
            "5.5\n"
          ]
        }
      ]
    },
    {
      "cell_type": "code",
      "source": [
        "L1=[1,1,1,1,2,2,3,3,3,3,4,5]\n",
        "L2 =[]\n",
        "for e in L1:\n",
        "  if e not in L2:\n",
        "    L2.append(e)\n",
        "print(L2)"
      ],
      "metadata": {
        "colab": {
          "base_uri": "https://localhost:8080/"
        },
        "id": "0bM3mf3-0bfg",
        "outputId": "6ef5c7b8-3385-491c-fa65-507c7e459356"
      },
      "execution_count": null,
      "outputs": [
        {
          "output_type": "stream",
          "name": "stdout",
          "text": [
            "[1, 2, 3, 4, 5]\n"
          ]
        }
      ]
    },
    {
      "cell_type": "code",
      "source": [
        "L1 = [1,2,3,4, [4,3] ]\n",
        "L2 = []\n",
        "for e in L1[0:4]:\n",
        "  if e in L1[4]:\n",
        "    L2.append(e)\n",
        "print(L2)"
      ],
      "metadata": {
        "colab": {
          "base_uri": "https://localhost:8080/"
        },
        "id": "XMsqJpgf1TcP",
        "outputId": "24e02762-880e-4a81-e83d-6d02a22b9c5e"
      },
      "execution_count": null,
      "outputs": [
        {
          "output_type": "stream",
          "name": "stdout",
          "text": [
            "[3, 4]\n"
          ]
        }
      ]
    },
    {
      "cell_type": "code",
      "source": [
        "L1 = [[1,-1,2],[0,-5,3,5,-2],[1,2,1,0,-2,-3]]\n",
        "L2 =[]\n",
        "for e in L1[0]:\n",
        "  if e>0:\n",
        "    L2.append(e)\n",
        "for e in L1[1]:\n",
        "  if e>0:\n",
        "    L2.append(e)\n",
        "for e in L1[2]:\n",
        "  if e>0:\n",
        "    L2.append(e)\n",
        "print(L2)"
      ],
      "metadata": {
        "colab": {
          "base_uri": "https://localhost:8080/"
        },
        "id": "XVXX3rn51yDe",
        "outputId": "dba2ddcb-58f6-4a56-9736-7c87f174d845"
      },
      "execution_count": null,
      "outputs": [
        {
          "output_type": "stream",
          "name": "stdout",
          "text": [
            "[1, 2, 3, 5, 1, 2, 1]\n"
          ]
        }
      ]
    },
    {
      "cell_type": "code",
      "source": [
        "l = [[1,2,3],[4,5,6,3],[-1,-2,-10,5,8]]\n",
        "l1,l2,l3,l4=0,0,0,0\n",
        "for e in l[0]:\n",
        "    l1=l1+e\n",
        "for e in l[1]:\n",
        "    l2=l2+e\n",
        "for e in l[2]:\n",
        "    l3=l3+e\n",
        "total = l1/len(l[0]) + l2/len(l[1]) + l3/len(l[2])\n",
        "print(total)"
      ],
      "metadata": {
        "colab": {
          "base_uri": "https://localhost:8080/"
        },
        "id": "eWxmc8bH2tDn",
        "outputId": "0be15e6b-865d-4cfe-8e21-b761408dfffa"
      },
      "execution_count": null,
      "outputs": [
        {
          "output_type": "stream",
          "name": "stdout",
          "text": [
            "6.5\n"
          ]
        }
      ]
    }
  ]
}