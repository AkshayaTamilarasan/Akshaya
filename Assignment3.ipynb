{
  "nbformat": 4,
  "nbformat_minor": 0,
  "metadata": {
    "colab": {
      "provenance": [],
      "authorship_tag": "ABX9TyP4BH9/nQnIl10rl23uwcD7",
      "include_colab_link": true
    },
    "kernelspec": {
      "name": "python3",
      "display_name": "Python 3"
    },
    "language_info": {
      "name": "python"
    }
  },
  "cells": [
    {
      "cell_type": "markdown",
      "metadata": {
        "id": "view-in-github",
        "colab_type": "text"
      },
      "source": [
        "<a href=\"https://colab.research.google.com/github/AkshayaTamilarasan/Akshaya/blob/main/Assignment3.ipynb\" target=\"_parent\"><img src=\"https://colab.research.google.com/assets/colab-badge.svg\" alt=\"Open In Colab\"/></a>"
      ]
    },
    {
      "cell_type": "code",
      "execution_count": null,
      "metadata": {
        "colab": {
          "base_uri": "https://localhost:8080/"
        },
        "id": "s10TFKG5QhaG",
        "outputId": "173d80a3-c805-40fa-a57d-a119c9c0ef23"
      },
      "outputs": [
        {
          "output_type": "stream",
          "name": "stdout",
          "text": [
            "20\n"
          ]
        }
      ],
      "source": [
        "A=[8, 2, 3, 0, 7]\n",
        "\n",
        "print(sum(A))"
      ]
    },
    {
      "cell_type": "code",
      "source": [
        "A = \"1234abcd\"\n",
        "\n",
        "print(A[::-1])"
      ],
      "metadata": {
        "colab": {
          "base_uri": "https://localhost:8080/"
        },
        "id": "E6oJI2bdQqPy",
        "outputId": "71bf9889-2708-4958-d0e4-39e55ee564d4"
      },
      "execution_count": null,
      "outputs": [
        {
          "output_type": "stream",
          "name": "stdout",
          "text": [
            "dcba4321\n"
          ]
        }
      ]
    },
    {
      "cell_type": "code",
      "source": [
        "def sum(num):\n",
        "\n",
        "  tot = 0\n",
        "\n",
        "  for e in num:\n",
        "\n",
        "        tot += e\n",
        "\n",
        "  return tot\n",
        "\n",
        "print(sum([8, 2, 3, 0, 7]))"
      ],
      "metadata": {
        "colab": {
          "base_uri": "https://localhost:8080/"
        },
        "id": "kFFz3UVeQuXf",
        "outputId": "98956bfb-2982-4e7c-f3a2-33b08c12a90b"
      },
      "execution_count": null,
      "outputs": [
        {
          "output_type": "stream",
          "name": "stdout",
          "text": [
            "20\n"
          ]
        }
      ]
    },
    {
      "cell_type": "code",
      "source": [
        "def letters_count(str):\n",
        "\n",
        "  Uppercase = 0\n",
        "\n",
        "  Lowercase = 0\n",
        "\n",
        "  for e in str:  \n",
        "\n",
        "        if(e.islower()):\n",
        "\n",
        "          Lowercase=Lowercase+1\n",
        "\n",
        "        elif(e.isupper()):\n",
        "\n",
        "          Uppercase = Uppercase + 1\n",
        "\n",
        "  print(f'No of Upper character is: {Uppercase}')\n",
        "\n",
        "  print(f\"No of Lower character: {Lowercase}\")\n",
        "\n",
        "\n",
        "\n",
        "\n",
        "letters_count(\"The quick Brow Fox\")"
      ],
      "metadata": {
        "colab": {
          "base_uri": "https://localhost:8080/"
        },
        "id": "msuZ5K9mQyde",
        "outputId": "ce6b0fa6-9a25-4fc3-9c70-a364a91d49b2"
      },
      "execution_count": null,
      "outputs": [
        {
          "output_type": "stream",
          "name": "stdout",
          "text": [
            "No of Upper character is: 3\n",
            "No of Lower character: 12\n"
          ]
        }
      ]
    },
    {
      "cell_type": "code",
      "source": [
        "def reverse_string(string):  \n",
        "\n",
        "    S = \"\"\n",
        "\n",
        "    for e in string:  \n",
        "\n",
        "        S = e + S  \n",
        "\n",
        "    return S\n",
        "\n",
        "print(reverse_string(\"1234abcd\"))"
      ],
      "metadata": {
        "colab": {
          "base_uri": "https://localhost:8080/"
        },
        "id": "VsHJ2qSyQ2lK",
        "outputId": "8217d592-b4ec-4392-f373-a3a4cef28065"
      },
      "execution_count": null,
      "outputs": [
        {
          "output_type": "stream",
          "name": "stdout",
          "text": [
            "dcba4321\n"
          ]
        }
      ]
    }
  ]
}