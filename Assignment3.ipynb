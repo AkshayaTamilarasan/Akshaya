{
  "nbformat": 4,
  "nbformat_minor": 0,
  "metadata": {
    "colab": {
      "provenance": [],
      "authorship_tag": "ABX9TyOqTF91j5HlM/clswVZnAb9",
      "include_colab_link": true
    },
    "kernelspec": {
      "name": "python3",
      "display_name": "Python 3"
    },
    "language_info": {
      "name": "python"
    }
  },
  "cells": [
    {
      "cell_type": "markdown",
      "metadata": {
        "id": "view-in-github",
        "colab_type": "text"
      },
      "source": [
        "<a href=\"https://colab.research.google.com/github/AkshayaTamilarasan/Akshaya/blob/main/Assignment3.ipynb\" target=\"_parent\"><img src=\"https://colab.research.google.com/assets/colab-badge.svg\" alt=\"Open In Colab\"/></a>"
      ]
    },
    {
      "cell_type": "code",
      "execution_count": 1,
      "metadata": {
        "colab": {
          "base_uri": "https://localhost:8080/"
        },
        "id": "s10TFKG5QhaG",
        "outputId": "05b85035-6431-4add-9182-65565082d683"
      },
      "outputs": [
        {
          "output_type": "stream",
          "name": "stdout",
          "text": [
            "20\n"
          ]
        }
      ],
      "source": [
        "l1=[8, 2, 3, 0, 7]\n",
        "\n",
        "print(sum(l1))"
      ]
    },
    {
      "cell_type": "code",
      "source": [
        "name = \"1234abcd\"\n",
        "\n",
        "print(name[::-1])"
      ],
      "metadata": {
        "colab": {
          "base_uri": "https://localhost:8080/"
        },
        "id": "E6oJI2bdQqPy",
        "outputId": "e7c2ca0c-928a-4011-bd21-4fd925526be8"
      },
      "execution_count": 2,
      "outputs": [
        {
          "output_type": "stream",
          "name": "stdout",
          "text": [
            "dcba4321\n"
          ]
        }
      ]
    },
    {
      "cell_type": "code",
      "source": [
        "def sum(numbers):\n",
        "\n",
        "  total = 0\n",
        "\n",
        "  for x in numbers:\n",
        "\n",
        "        total += x\n",
        "\n",
        "  return total\n",
        "\n",
        "print(sum([8, 2, 3, 0, 7]))"
      ],
      "metadata": {
        "colab": {
          "base_uri": "https://localhost:8080/"
        },
        "id": "kFFz3UVeQuXf",
        "outputId": "7d6b6e92-f8d7-4d6b-ef84-a11e2552973b"
      },
      "execution_count": 3,
      "outputs": [
        {
          "output_type": "stream",
          "name": "stdout",
          "text": [
            "20\n"
          ]
        }
      ]
    },
    {
      "cell_type": "code",
      "source": [
        "def letterscount(str):\n",
        "\n",
        "  Upper_letters = 0\n",
        "\n",
        "  Lower_letters = 0\n",
        "\n",
        "  for i in str:  \n",
        "\n",
        "        if(i.islower()):\n",
        "\n",
        "          Lower_letters=Lower_letters+1\n",
        "\n",
        "        elif(i.isupper()):\n",
        "\n",
        "          Upper_letters = Upper_letters + 1\n",
        "\n",
        "  print(f'No of Upper character is: {Upper_letters}')\n",
        "\n",
        "  print(f\"No of Lower character: {Lower_letters}\")\n",
        "\n",
        "\n",
        "\n",
        "\n",
        "letterscount(\"The quick Brow Fox\")"
      ],
      "metadata": {
        "colab": {
          "base_uri": "https://localhost:8080/"
        },
        "id": "msuZ5K9mQyde",
        "outputId": "1d3fe6d1-b210-4ff7-ce70-f566e31c56d3"
      },
      "execution_count": 4,
      "outputs": [
        {
          "output_type": "stream",
          "name": "stdout",
          "text": [
            "No of Upper character is: 3\n",
            "No of Lower character: 12\n"
          ]
        }
      ]
    },
    {
      "cell_type": "code",
      "source": [
        "def reverse_string(str):  \n",
        "\n",
        "    str1 = \"\"\n",
        "\n",
        "    for i in str:  \n",
        "\n",
        "        str1 = i + str1  \n",
        "\n",
        "    return str1\n",
        "\n",
        "print(reverse_string(\"1234abcd\"))"
      ],
      "metadata": {
        "colab": {
          "base_uri": "https://localhost:8080/"
        },
        "id": "VsHJ2qSyQ2lK",
        "outputId": "3448bc12-78aa-4457-81d3-45a602bb4805"
      },
      "execution_count": 5,
      "outputs": [
        {
          "output_type": "stream",
          "name": "stdout",
          "text": [
            "dcba4321\n"
          ]
        }
      ]
    }
  ]
}