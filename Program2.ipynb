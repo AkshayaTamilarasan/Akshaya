{
  "cells": [
    {
      "cell_type": "markdown",
      "metadata": {
        "id": "view-in-github",
        "colab_type": "text"
      },
      "source": [
        "<a href=\"https://colab.research.google.com/github/AkshayaTamilarasan/Akshaya/blob/main/Program2.ipynb\" target=\"_parent\"><img src=\"https://colab.research.google.com/assets/colab-badge.svg\" alt=\"Open In Colab\"/></a>"
      ]
    },
    {
      "cell_type": "code",
      "execution_count": null,
      "metadata": {
        "colab": {
          "base_uri": "https://localhost:8080/"
        },
        "id": "Ba4gpGhDOsTw",
        "outputId": "764b39ad-93bb-4b7b-8b5f-bfbe44beabea"
      },
      "outputs": [
        {
          "output_type": "stream",
          "name": "stdout",
          "text": [
            "log_message=D:100 W:200 D:400\n",
            "300\n"
          ]
        }
      ],
      "source": [
        "output=0\n",
        "num=input(\"log_message=\")\n",
        "message1=num.split(\" \")\n",
        "for e in message1:\n",
        "  input_message=e.split(\":\")\n",
        "  if input_message[0]==\"D\":\n",
        "    output=output+int(input_message[1])\n",
        "  elif input_message[0]==\"W\":\n",
        "    output=output-int(input_message[1])\n",
        "print(output)"
      ]
    }
  ],
  "metadata": {
    "colab": {
      "provenance": [],
      "authorship_tag": "ABX9TyOrODWmubfgKB83Jn1huCc5",
      "include_colab_link": true
    },
    "kernelspec": {
      "display_name": "Python 3",
      "name": "python3"
    },
    "language_info": {
      "name": "python"
    }
  },
  "nbformat": 4,
  "nbformat_minor": 0
}