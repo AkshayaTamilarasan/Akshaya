{
  "nbformat": 4,
  "nbformat_minor": 0,
  "metadata": {
    "colab": {
      "provenance": [],
      "authorship_tag": "ABX9TyOsR/e5G3yLT3hV31qjJDUM",
      "include_colab_link": true
    },
    "kernelspec": {
      "name": "python3",
      "display_name": "Python 3"
    },
    "language_info": {
      "name": "python"
    }
  },
  "cells": [
    {
      "cell_type": "markdown",
      "metadata": {
        "id": "view-in-github",
        "colab_type": "text"
      },
      "source": [
        "<a href=\"https://colab.research.google.com/github/AkshayaTamilarasan/Akshaya/blob/main/Program3.ipynb\" target=\"_parent\"><img src=\"https://colab.research.google.com/assets/colab-badge.svg\" alt=\"Open In Colab\"/></a>"
      ]
    },
    {
      "cell_type": "code",
      "execution_count": null,
      "metadata": {
        "colab": {
          "base_uri": "https://localhost:8080/"
        },
        "id": "qBGhJh_VUu5h",
        "outputId": "33d6bcde-7c17-48db-9ce4-eca309ee5a01"
      },
      "outputs": [
        {
          "output_type": "stream",
          "name": "stdout",
          "text": [
            "enter the number of calls 140\n",
            "224.0\n"
          ]
        }
      ],
      "source": [
        "\n",
        "call = int(input(\"enter the number of calls \"))\n",
        "calltime =0\n",
        "charges =0\n",
        "if(call<=100):\n",
        "    charges =200\n",
        "elif(call>=100 and call<=150):\n",
        "    charges = 200+((call-100)*0.60)\n",
        "elif(call<=200 and call>=151):\n",
        "    calltime = (call-150) \n",
        "    charges = 200+(((call-100)-calltime)*0.60)+calltime*0.50\n",
        "elif(call>200):\n",
        "    calltime = (call-200) \n",
        "    charges=200+(((call-150)-calltime)*0.60)+((call-150)-calltime)*0.50+calltime*.40\n",
        "print(charges)"
      ]
    },
    {
      "cell_type": "code",
      "source": [],
      "metadata": {
        "id": "PFjFlJA9VP5x"
      },
      "execution_count": null,
      "outputs": []
    }
  ]
}